{
 "cells": [
  {
   "cell_type": "markdown",
   "metadata": {},
   "source": [
    "# Transformer로 독일어-영어 번역하기\n",
    "- `torchtext` 사용\n",
    "  - 언어 번역을 위한 데이터셋을 쉽게 만들기 위한 도구들 포함됨 (토큰화, 수치화 등)\n",
    "  - multi30k 데이터셋 사용"
   ]
  },
  {
   "cell_type": "code",
   "execution_count": 10,
   "metadata": {},
   "outputs": [],
   "source": [
    "import torch\n",
    "import torchdata\n",
    "from torchtext.data.utils import get_tokenizer\n",
    "from torchtext.vocab import build_vocab_from_iterator\n",
    "from torchtext.datasets import multi30k, Multi30k\n",
    "from typing import Iterable, List\n",
    "\n",
    "multi30k.URL[\"train\"] = \"https://raw.githubusercontent.com/neychev/small_DL_repo/master/datasets/Multi30k/training.tar.gz\"\n",
    "multi30k.URL[\"valid\"]=\"https://raw.githubusercontent.com/neychev/small_DL_repo/master/datasets/Multi30k/validation.tar.gz\"\n",
    "\n",
    "SRC_LANGUAGE = 'de'\n",
    "TGT_LANGUAGE = 'en'\n",
    "\n",
    "token_transform = {}\n",
    "vocab_transform = {}"
   ]
  },
  {
   "cell_type": "code",
   "execution_count": 11,
   "metadata": {},
   "outputs": [
    {
     "name": "stdout",
     "output_type": "stream",
     "text": [
      "c:\\yuseoyeon\\ai_practice\\transformer\\lib\\site-packages\\portalocker\\__init__.py\n",
      "2.10.1\n",
      "['AlreadyLocked', 'BoundedSemaphore', 'LOCK_EX', 'LOCK_NB', 'LOCK_SH', 'LOCK_UN', 'Lock', 'LockException', 'LockFlags', 'RLock', 'RedisLock', 'TemporaryFileLock', '__about__', '__all__', '__annotations__', '__author__', '__builtins__', '__cached__', '__description__', '__doc__', '__email__', '__file__', '__loader__', '__name__', '__package__', '__package_name__', '__path__', '__spec__', '__url__', '__version__', 'constants', 'exceptions', 'lock', 'open_atomic', 'portalocker', 'unlock', 'utils']\n"
     ]
    }
   ],
   "source": [
    "import portalocker\n",
    "print(portalocker.__file__)\n",
    "print(portalocker.__version__)\n",
    "print(dir(portalocker))\n"
   ]
  },
  {
   "cell_type": "code",
   "execution_count": 12,
   "metadata": {},
   "outputs": [],
   "source": [
    "# tokenizer를 저장\n",
    "token_transform[SRC_LANGUAGE]=get_tokenizer('spacy',language='de_core_news_sm')\n",
    "token_transform[TGT_LANGUAGE]=get_tokenizer('spacy',language='en_core_web_sm')\n",
    "\n",
    "# 토큰 목록을 생성하기 위한 함수\n",
    "# 각 문장에 대한 토큰 list의 Iterable을 반환\n",
    "def yield_tokens(data_iter:Iterable, language:str)->Iterable[List[str]]:\n",
    "  language_index={SRC_LANGUAGE:0, TGT_LANGUAGE:1}\n",
    "  for data_sample in data_iter: \n",
    "    # 각 data_sample은 (독일어문장, 영어문장) 튜플\n",
    "    yield token_transform[language](data_sample[language_index[language]])\n",
    "\n",
    "# 특수기호와 인덱스를 정의\n",
    "UNK_IDX, PAD_IDX, BOS_IDX, EOS_IDX = 0,1,2,3\n",
    "special_symbols = ['<unk>','<pad>', '<bos>','<eod>']\n",
    "\n",
    "for ln in [SRC_LANGUAGE, TGT_LANGUAGE]:\n",
    "  # 학습 문장쌍 iterable\n",
    "  train_iter=Multi30k(split='train', language_pair=(SRC_LANGUAGE,TGT_LANGUAGE))\n",
    "  # Vocab(어휘집) 객체 생성\n",
    "  vocab_transform[ln]=build_vocab_from_iterator(yield_tokens(train_iter,ln),\n",
    "                                                min_freq=1,\n",
    "                                                specials=special_symbols,\n",
    "                                                special_first=True)\n",
    "# 어휘집에서 토큰을 찾지 못한 경우 반환되는 기본 인덱스를 UNK_IDX로 설정\n",
    "for ln in [SRC_LANGUAGE,TGT_LANGUAGE]:\n",
    "  vocab_transform[ln].set_default_index(UNK_IDX)"
   ]
  },
  {
   "cell_type": "markdown",
   "metadata": {},
   "source": [
    "### Transformer를 이용한 Seq2Seq 신경망 구현"
   ]
  },
  {
   "cell_type": "code",
   "execution_count": 13,
   "metadata": {},
   "outputs": [],
   "source": [
    "from torch import Tensor\n",
    "import torch.nn as nn\n",
    "from torch.nn import Transformer\n",
    "import math\n",
    "\n",
    "DEVICE = torch.device('cuda' if torch.cuda.is_available() else 'cpu')\n",
    "\n",
    "# Positional 인코딩을 위한 모듈\n",
    "class PositionalEncoding(nn.Module):\n",
    "  def __init__(self, \n",
    "               emb_size:int,\n",
    "               dropout:float,\n",
    "               maxlen:int=5000):\n",
    "    super(PositionalEncoding,self).__init__()\n",
    "    den = torch.exp(- torch.arange(0, emb_size, 2)* math.log(10000) / emb_size)\n",
    "    pos = torch.arange(0, maxlen).reshape(maxlen, 1)\n",
    "    pos_embedding = torch.zeros((maxlen, emb_size))\n",
    "    pos_embedding[:, 0::2] = torch.sin(pos * den)\n",
    "    pos_embedding[:, 1::2] = torch.cos(pos * den)\n",
    "    pos_embedding = pos_embedding.unsqueeze(-2)\n",
    "    \n",
    "    self.dropout = nn.Dropout(dropout)\n",
    "    self.register_buffer('pos_embedding', pos_embedding)\n",
    "    \n",
    "  def forward(self, token_embedding: Tensor):\n",
    "    return self.dropout(token_embedding + self.pos_embedding[:token_embedding.size(0), :])\n",
    "\n",
    "# 입력 인덱스의 텐서를 해당하는 토큰 임베딩의 텐서로 변환하는 모듈  \n",
    "class TokenEmbedding(nn.Module):\n",
    "  def __init__(self, vocab_size: int, emb_size):\n",
    "    super(TokenEmbedding, self).__init__()\n",
    "    self.embedding = nn.Embedding(vocab_size, emb_size)\n",
    "    self.emb_size = emb_size\n",
    "  \n",
    "  def forward(self, tokens: Tensor):\n",
    "    return self.embedding(tokens.long()) * math.sqrt(self.emb_size)\n",
    "\n",
    "# Transformer  \n",
    "class Seq2SeqTransformer(nn.Module):\n",
    "  def __init__(self,\n",
    "                 num_encoder_layers: int,\n",
    "                 num_decoder_layers: int,\n",
    "                 emb_size: int,\n",
    "                 nhead: int,\n",
    "                 src_vocab_size: int,\n",
    "                 tgt_vocab_size: int,\n",
    "                 dim_feedforward: int = 512,\n",
    "                 dropout: float = 0.1):\n",
    "      super(Seq2SeqTransformer, self).__init__()\n",
    "      self.transformer = Transformer(d_model=emb_size,\n",
    "                                      nhead=nhead,\n",
    "                                      num_encoder_layers=num_encoder_layers,\n",
    "                                      num_decoder_layers=num_decoder_layers,\n",
    "                                      dim_feedforward=dim_feedforward,\n",
    "                                      dropout=dropout)\n",
    "      self.generator = nn.Linear(emb_size, tgt_vocab_size)\n",
    "      self.src_tok_emb = TokenEmbedding(src_vocab_size, emb_size)\n",
    "      self.tgt_tok_emb = TokenEmbedding(tgt_vocab_size, emb_size)\n",
    "      self.positional_encoding = PositionalEncoding(\n",
    "          emb_size, dropout=dropout)\n",
    "\n",
    "  def forward(self,\n",
    "                src: Tensor,\n",
    "                trg: Tensor,\n",
    "                src_mask: Tensor,\n",
    "                tgt_mask: Tensor,\n",
    "                src_padding_mask: Tensor,\n",
    "                tgt_padding_mask: Tensor,\n",
    "                memory_key_padding_mask: Tensor):\n",
    "      src_emb = self.positional_encoding(self.src_tok_emb(src))\n",
    "      tgt_emb = self.positional_encoding(self.tgt_tok_emb(trg))\n",
    "      outs = self.transformer(src_emb, tgt_emb, src_mask, tgt_mask, None,\n",
    "                              src_padding_mask, tgt_padding_mask, memory_key_padding_mask)\n",
    "      return self.generator(outs)\n",
    "  \n",
    "  def encode(self, src: Tensor, src_mask: Tensor):\n",
    "    return self.transformer.encoder(self.positional_encoding(\n",
    "                            self.src_tok_emb(src)), src_mask)\n",
    "  def decode(self, tgt: Tensor, memory: Tensor, tgt_mask: Tensor):\n",
    "    return self.transformer.decoder(self.positional_encoding(\n",
    "                          self.tgt_tok_emb(tgt)), memory,\n",
    "                          tgt_mask)"
   ]
  },
  {
   "cell_type": "markdown",
   "metadata": {},
   "source": [
    "### 마스크 처리를 위한 함수 정의 "
   ]
  },
  {
   "cell_type": "code",
   "execution_count": 14,
   "metadata": {},
   "outputs": [],
   "source": [
    "def generate_square_subsequent_mask(sz):\n",
    "  mask = (torch.triu(torch.ones((sz, sz), device=DEVICE)) == 1).transpose(0, 1)\n",
    "  mask = mask.float().masked_fill(mask == 0, float('-inf')).masked_fill(mask == 1, float(0.0))\n",
    "  return mask\n",
    "\n",
    "\n",
    "def create_mask(src, tgt):\n",
    "  src_seq_len = src.shape[0]\n",
    "  tgt_seq_len = tgt.shape[0]\n",
    "\n",
    "  tgt_mask = generate_square_subsequent_mask(tgt_seq_len)\n",
    "  src_mask = torch.zeros((src_seq_len, src_seq_len),device=DEVICE).type(torch.bool)\n",
    "\n",
    "  src_padding_mask = (src == PAD_IDX).transpose(0, 1)\n",
    "  tgt_padding_mask = (tgt == PAD_IDX).transpose(0, 1)\n",
    "  return src_mask, tgt_mask, src_padding_mask, tgt_padding_mask"
   ]
  },
  {
   "cell_type": "markdown",
   "metadata": {},
   "source": [
    "### 모델 객체 생성, 손실함수 정의, Optimizer 정의"
   ]
  },
  {
   "cell_type": "code",
   "execution_count": 15,
   "metadata": {},
   "outputs": [],
   "source": [
    "torch.manual_seed(0)\n",
    "\n",
    "SRC_VOCAB_SIZE = len(vocab_transform[SRC_LANGUAGE])\n",
    "TGT_VOCAB_SIZE = len(vocab_transform[TGT_LANGUAGE])\n",
    "EMB_SIZE = 512\n",
    "NHEAD = 8\n",
    "FFN_HID_DIM = 512\n",
    "BATCH_SIZE = 128\n",
    "NUM_ENCODER_LAYERS = 3\n",
    "NUM_DECODER_LAYERS = 3\n",
    "\n",
    "transformer = Seq2SeqTransformer(NUM_ENCODER_LAYERS, NUM_DECODER_LAYERS, EMB_SIZE,\n",
    "                                 NHEAD, SRC_VOCAB_SIZE, TGT_VOCAB_SIZE, FFN_HID_DIM)\n",
    "\n",
    "for p in transformer.parameters():\n",
    "    if p.dim() > 1:\n",
    "        nn.init.xavier_uniform_(p)\n",
    "\n",
    "transformer = transformer.to(DEVICE)\n",
    "\n",
    "loss_fn = torch.nn.CrossEntropyLoss(ignore_index=PAD_IDX)\n",
    "\n",
    "optimizer = torch.optim.Adam(transformer.parameters(), lr=0.0001, betas=(0.9, 0.98), eps=1e-9)"
   ]
  },
  {
   "cell_type": "markdown",
   "metadata": {},
   "source": [
    "### 대조\n",
    "- 데이터 문자열 쌍을 Seq2Seq 신경망에서 처리할 수 있도록 batched tensor로 변환"
   ]
  },
  {
   "cell_type": "code",
   "execution_count": 16,
   "metadata": {},
   "outputs": [],
   "source": [
    "from torch.nn.utils.rnn import pad_sequence\n",
    "\n",
    "# 순차적인 작업들을 하나로 묶는 함수\n",
    "def sequential_transforms(*transforms):\n",
    "    def func(txt_input):\n",
    "        for transform in transforms:\n",
    "            txt_input = transform(txt_input)\n",
    "        return txt_input\n",
    "    return func\n",
    "\n",
    "# BOS/EOS를 추가하고 입력 순서 인덱스에 대한 텐서를 생성하는 함수\n",
    "def tensor_transform(token_ids: List[int]):\n",
    "    return torch.cat((torch.tensor([BOS_IDX]),\n",
    "                      torch.tensor(token_ids),\n",
    "                      torch.tensor([EOS_IDX])))\n",
    "\n",
    "# 출발어(src)와 도착어(tgt) 원시 문자열들을 텐서 인덱스로 변환하는 변형(transform)\n",
    "text_transform = {}\n",
    "for ln in [SRC_LANGUAGE, TGT_LANGUAGE]:\n",
    "    text_transform[ln] = sequential_transforms(token_transform[ln], # 토큰화(Tokenization)\n",
    "                                               vocab_transform[ln], # 수치화(Numericalization)\n",
    "                                               tensor_transform) # BOS/EOS를 추가하고 텐서를 생성\n",
    "\n",
    "\n",
    "# 데이터를 텐서로 조합하는 함수\n",
    "def collate_fn(batch):\n",
    "    src_batch, tgt_batch = [], []\n",
    "    for src_sample, tgt_sample in batch:\n",
    "        src_batch.append(text_transform[SRC_LANGUAGE](src_sample.rstrip(\"\\n\")))\n",
    "        tgt_batch.append(text_transform[TGT_LANGUAGE](tgt_sample.rstrip(\"\\n\")))\n",
    "\n",
    "    src_batch = pad_sequence(src_batch, padding_value=PAD_IDX)\n",
    "    tgt_batch = pad_sequence(tgt_batch, padding_value=PAD_IDX)\n",
    "    return src_batch, tgt_batch"
   ]
  },
  {
   "cell_type": "markdown",
   "metadata": {},
   "source": [
    "### 학습 및 검증 정의"
   ]
  },
  {
   "cell_type": "code",
   "execution_count": 17,
   "metadata": {},
   "outputs": [],
   "source": [
    "from torch.utils.data import DataLoader\n",
    "\n",
    "def train_epoch(model, optimizer):\n",
    "  model.train()\n",
    "  losses = 0\n",
    "  train_iter = Multi30k(split='train', language_pair=(SRC_LANGUAGE, TGT_LANGUAGE))\n",
    "  train_dataloader = DataLoader(train_iter, batch_size=BATCH_SIZE, collate_fn=collate_fn)\n",
    "\n",
    "  for src, tgt in train_dataloader:\n",
    "    src = src.to(DEVICE)\n",
    "    tgt = tgt.to(DEVICE)\n",
    "\n",
    "    tgt_input = tgt[:-1, :]\n",
    "\n",
    "    src_mask, tgt_mask, src_padding_mask, tgt_padding_mask = create_mask(src, tgt_input)\n",
    "\n",
    "    logits = model(src, tgt_input, src_mask, tgt_mask,src_padding_mask, tgt_padding_mask, src_padding_mask)\n",
    "\n",
    "    optimizer.zero_grad()\n",
    "\n",
    "    tgt_out = tgt[1:, :]\n",
    "    loss = loss_fn(logits.reshape(-1, logits.shape[-1]), tgt_out.reshape(-1))\n",
    "    loss.backward()\n",
    "\n",
    "    optimizer.step()\n",
    "    losses += loss.item()\n",
    "\n",
    "  return losses / len(list(train_dataloader))\n",
    "\n",
    "\n",
    "def evaluate(model):\n",
    "  model.eval()\n",
    "  losses = 0\n",
    "\n",
    "  val_iter = Multi30k(split='valid', language_pair=(SRC_LANGUAGE, TGT_LANGUAGE))\n",
    "  val_dataloader = DataLoader(val_iter, batch_size=BATCH_SIZE, collate_fn=collate_fn)\n",
    "\n",
    "  for src, tgt in val_dataloader:\n",
    "    src = src.to(DEVICE)\n",
    "    tgt = tgt.to(DEVICE)\n",
    "\n",
    "    tgt_input = tgt[:-1, :]\n",
    "\n",
    "    src_mask, tgt_mask, src_padding_mask, tgt_padding_mask = create_mask(src, tgt_input)\n",
    "\n",
    "    logits = model(src, tgt_input, src_mask, tgt_mask,src_padding_mask, tgt_padding_mask, src_padding_mask)\n",
    "\n",
    "    tgt_out = tgt[1:, :]\n",
    "    loss = loss_fn(logits.reshape(-1, logits.shape[-1]), tgt_out.reshape(-1))\n",
    "    losses += loss.item()\n",
    "\n",
    "  return losses / len(list(val_dataloader))"
   ]
  },
  {
   "cell_type": "markdown",
   "metadata": {},
   "source": [
    "### 학습 진행"
   ]
  },
  {
   "cell_type": "code",
   "execution_count": null,
   "metadata": {},
   "outputs": [
    {
     "name": "stdout",
     "output_type": "stream",
     "text": [
      "Epoch: 1, Train loss: 3.447, Val loss: 3.095, Epoch time = 798.882s\n",
      "Epoch: 2, Train loss: 2.963, Val loss: 2.762, Epoch time = 697.620s\n",
      "Epoch: 3, Train loss: 2.628, Val loss: 2.539, Epoch time = 846.566s\n",
      "Epoch: 4, Train loss: 2.371, Val loss: 2.370, Epoch time = 718.156s\n",
      "Epoch: 5, Train loss: 2.159, Val loss: 2.246, Epoch time = 4930.069s\n",
      "Epoch: 6, Train loss: 1.983, Val loss: 2.150, Epoch time = 1021.130s\n",
      "Epoch: 7, Train loss: 1.834, Val loss: 2.073, Epoch time = 726.929s\n",
      "Epoch: 8, Train loss: 1.701, Val loss: 2.020, Epoch time = 889.855s\n"
     ]
    }
   ],
   "source": [
    "from timeit import default_timer as timer\n",
    "NUM_EPOCHS = 8\n",
    "\n",
    "for epoch in range(1, NUM_EPOCHS+1):\n",
    "  start_time = timer()\n",
    "  train_loss = train_epoch(transformer, optimizer)\n",
    "  end_time = timer()\n",
    "  val_loss = evaluate(transformer)\n",
    "  print((f\"Epoch: {epoch}, Train loss: {train_loss:.3f}, Val loss: {val_loss:.3f}, \"f\"Epoch time = {(end_time - start_time):.3f}s\"))\n"
   ]
  },
  {
   "cell_type": "code",
   "execution_count": 21,
   "metadata": {},
   "outputs": [],
   "source": [
    "torch.save(transformer,f'./model.pt')"
   ]
  },
  {
   "cell_type": "code",
   "execution_count": 18,
   "metadata": {},
   "outputs": [],
   "source": [
    "# greedy 알고리즘을 사용하여 출력 순서를 생성하는 함수\n",
    "def greedy_decode(model, src, src_mask, max_len, start_symbol):\n",
    "  src = src.to(DEVICE)\n",
    "  src_mask = src_mask.to(DEVICE)\n",
    "\n",
    "  memory = model.encode(src, src_mask)\n",
    "  ys = torch.ones(1, 1).fill_(start_symbol).type(torch.long).to(DEVICE)\n",
    "  for i in range(max_len-1):\n",
    "    memory = memory.to(DEVICE)\n",
    "    tgt_mask = (generate_square_subsequent_mask(ys.size(0))\n",
    "                .type(torch.bool)).to(DEVICE)\n",
    "    out = model.decode(ys, memory, tgt_mask)\n",
    "    out = out.transpose(0, 1)\n",
    "    prob = model.generator(out[:, -1])\n",
    "    _, next_word = torch.max(prob, dim=1)\n",
    "    next_word = next_word.item()\n",
    "\n",
    "    ys = torch.cat([ys,\n",
    "                    torch.ones(1, 1).type_as(src.data).fill_(next_word)], dim=0)\n",
    "    if next_word == EOS_IDX:\n",
    "        break\n",
    "  return ys\n",
    "\n",
    "\n",
    "# 입력 문장을 도착어로 번역하는 함수\n",
    "def translate(model: torch.nn.Module, src_sentence: str):\n",
    "  model.eval()\n",
    "  src = text_transform[SRC_LANGUAGE](src_sentence).view(-1, 1)\n",
    "  num_tokens = src.shape[0]\n",
    "  src_mask = (torch.zeros(num_tokens, num_tokens)).type(torch.bool)\n",
    "  tgt_tokens = greedy_decode(\n",
    "      model,  src, src_mask, max_len=num_tokens + 5, start_symbol=BOS_IDX).flatten()\n",
    "  return \" \".join(vocab_transform[TGT_LANGUAGE].lookup_tokens(list(tgt_tokens.cpu().numpy()))).replace(\"<bos>\", \"\").replace(\"<eos>\", \"\")"
   ]
  },
  {
   "cell_type": "code",
   "execution_count": 27,
   "metadata": {},
   "outputs": [
    {
     "name": "stdout",
     "output_type": "stream",
     "text": [
      " A group of people stand in front of an empty instrument . <eod>\n"
     ]
    }
   ],
   "source": [
    "model = torch.load(\"model.pt\",map_location=DEVICE)\n",
    "print(translate(model, \"Eine Gruppe von Menschen steht vor einem Iglu .\"))"
   ]
  }
 ],
 "metadata": {
  "kernelspec": {
   "display_name": "transformer",
   "language": "python",
   "name": "python3"
  },
  "language_info": {
   "codemirror_mode": {
    "name": "ipython",
    "version": 3
   },
   "file_extension": ".py",
   "mimetype": "text/x-python",
   "name": "python",
   "nbconvert_exporter": "python",
   "pygments_lexer": "ipython3",
   "version": "3.10.2"
  }
 },
 "nbformat": 4,
 "nbformat_minor": 2
}
