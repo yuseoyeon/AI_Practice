{
 "cells": [
  {
   "cell_type": "code",
   "execution_count": 2,
   "metadata": {
    "id": "wX7PzUsKnwni"
   },
   "outputs": [],
   "source": [
    "import matplotlib.pyplot as plt\n",
    "import torch\n",
    "import torch.nn as nn\n",
    "import torch.nn.functional as F\n",
    "import torch.optim as optim\n",
    "from torchvision import transforms, datasets"
   ]
  },
  {
   "cell_type": "code",
   "execution_count": 3,
   "metadata": {
    "colab": {
     "base_uri": "https://localhost:8080/"
    },
    "id": "RsjyYweFrWjd",
    "outputId": "b9f5a3d5-c398-4f9e-b480-44b5ab11adee"
   },
   "outputs": [
    {
     "name": "stdout",
     "output_type": "stream",
     "text": [
      "Using PyTorch version: 2.7.1+cpu  Device: cpu\n"
     ]
    }
   ],
   "source": [
    "if torch.cuda.is_available():\n",
    "    DEVICE = torch.device('cuda')\n",
    "else:\n",
    "    DEVICE = torch.device('cpu')\n",
    "\n",
    "print(\"Using PyTorch version:\", torch.__version__,' Device:', DEVICE)\n",
    "\n",
    "BATCH_SIZE = 50\n",
    "EPOCHS = 15\n",
    "LEARNING_RATE = 0.0001"
   ]
  },
  {
   "cell_type": "code",
   "execution_count": 4,
   "metadata": {
    "id": "ehJE0Wk8redN"
   },
   "outputs": [],
   "source": [
    "train_dataset = datasets.MNIST(root = \"../data/MNIST\",\n",
    "                               train = True,\n",
    "                               download = True,\n",
    "                               transform = transforms.ToTensor())\n",
    "\n",
    "test_dataset = datasets.MNIST(root = \"../data/MNIST\",\n",
    "                              train = False,\n",
    "                              transform = transforms.ToTensor())\n",
    "\n",
    "train_loader = torch.utils.data.DataLoader(dataset = train_dataset,\n",
    "                                           batch_size = BATCH_SIZE,\n",
    "                                           shuffle = True)\n",
    "\n",
    "test_loader = torch.utils.data.DataLoader(dataset = test_dataset,\n",
    "                                          batch_size = BATCH_SIZE,\n",
    "                                          shuffle = False)"
   ]
  },
  {
   "cell_type": "code",
   "execution_count": 5,
   "metadata": {
    "colab": {
     "base_uri": "https://localhost:8080/"
    },
    "id": "u3a6StwEsUEK",
    "outputId": "6ba5ecf9-79b7-4381-e166-4c6cc5122b15"
   },
   "outputs": [
    {
     "name": "stdout",
     "output_type": "stream",
     "text": [
      "X_train: torch.Size([50, 1, 28, 28]) type: torch.FloatTensor\n",
      "y_train: torch.Size([50]) type: torch.LongTensor\n"
     ]
    }
   ],
   "source": [
    "for (X_train, y_train) in train_loader:\n",
    "    print('X_train:', X_train.size(), 'type:', X_train.type())\n",
    "    print('y_train:', y_train.size(), 'type:', y_train.type())\n",
    "    break"
   ]
  },
  {
   "cell_type": "code",
   "execution_count": 6,
   "metadata": {
    "colab": {
     "base_uri": "https://localhost:8080/",
     "height": 125
    },
    "id": "eR_tPg7btXKt",
    "outputId": "eff2d00b-b8b8-4424-c979-dc695f70f272"
   },
   "outputs": [
    {
     "data": {
      "image/png": "[encoded data removed]",
      "text/plain": [
       "<Figure size 1000x100 with 10 Axes>"
      ]
     },
     "metadata": {},
     "output_type": "display_data"
    }
   ],
   "source": [
    "pltsize = 1\n",
    "plt.figure(figsize=(10 * pltsize, pltsize))\n",
    "\n",
    "for i in range(10):\n",
    "    plt.subplot(1, 10, i + 1)\n",
    "    plt.axis('off')\n",
    "    plt.imshow(X_train[i, :, :, :].numpy().reshape(28, 28), cmap = \"gray_r\")\n",
    "    plt.title('Class: ' + str(y_train[i].item()))"
   ]
  },
  {
   "cell_type": "code",
   "execution_count": 7,
   "metadata": {
    "id": "PXrO_c5zv1BV"
   },
   "outputs": [],
   "source": [
    "class CNN(nn.Module): # 완전연결 신경망 모델\n",
    "    def __init__(self):\n",
    "        super(CNN, self).__init__()\n",
    "        self.conv1 = nn.Conv2d(1,32,3,1)\n",
    "        self.conv2 = nn.Conv2d(32,64,3,1)\n",
    "        self.dropout = nn.Dropout2d(0.25)\n",
    "        self.fc1 = nn.Linear(1600,1000)\n",
    "        self.fc2 = nn.Linear(1000,10)\n",
    "\n",
    "    def forward(self, x):\n",
    "        x = self.conv1(x)\n",
    "        x = F.relu(x)\n",
    "        x = F.max_pool2d(x,2)\n",
    "        x = self.conv2(x)\n",
    "        x = F.relu(x)\n",
    "        x = F.max_pool2d(x,2)\n",
    "        x = self.dropout(x)\n",
    "        x = torch.flatten(x,1)\n",
    "        x = self.fc1(x)\n",
    "        x = F.relu(x)\n",
    "        x = self.fc2(x)\n",
    "        output = F.log_softmax(x, dim=1)\n",
    "        return output"
   ]
  },
  {
   "cell_type": "code",
   "execution_count": 8,
   "metadata": {
    "id": "5Emn3JxDl_un"
   },
   "outputs": [],
   "source": [
    "model = CNN().to(DEVICE)\n",
    "optimizer = optim.Adam(model.parameters(), lr = LEARNING_RATE)\n",
    "criterison = nn.CrossEntropyLoss()"
   ]
  },
  {
   "cell_type": "code",
   "execution_count": 9,
   "metadata": {
    "colab": {
     "base_uri": "https://localhost:8080/"
    },
    "id": "_BL1rxKlmnwF",
    "outputId": "fda12e97-cb47-429c-c9e4-0a7ed4a4185f"
   },
   "outputs": [
    {
     "name": "stdout",
     "output_type": "stream",
     "text": [
      "train step: 1000\t loss: 0.305\n",
      "train step: 2000\t loss: 0.136\n",
      "train step: 3000\t loss: 0.046\n",
      "train step: 4000\t loss: 0.069\n",
      "train step: 5000\t loss: 0.039\n",
      "train step: 6000\t loss: 0.025\n",
      "train step: 7000\t loss: 0.041\n",
      "train step: 8000\t loss: 0.004\n",
      "train step: 9000\t loss: 0.027\n",
      "train step: 10000\t loss: 0.004\n",
      "train step: 11000\t loss: 0.005\n",
      "train step: 12000\t loss: 0.068\n",
      "train step: 13000\t loss: 0.002\n",
      "train step: 14000\t loss: 0.029\n",
      "train step: 15000\t loss: 0.004\n",
      "train step: 16000\t loss: 0.114\n",
      "train step: 17000\t loss: 0.009\n",
      "train step: 18000\t loss: 0.026\n"
     ]
    }
   ],
   "source": [
    "model.train()\n",
    "i = 1\n",
    "for epoch in range(EPOCHS):\n",
    "    for data, target in train_loader:\n",
    "        data = data.to(DEVICE)\n",
    "        target = target.to(DEVICE)\n",
    "        optimizer.zero_grad()\n",
    "        output = model(data)\n",
    "        loss = criterison(output, target)\n",
    "        loss.backward()\n",
    "        optimizer.step()\n",
    "        if i % 1000 == 0:\n",
    "            print('train step: {}\\t loss: {:.3f}'.format(i, loss.item()))\n",
    "\n",
    "        i += 1"
   ]
  },
  {
   "cell_type": "code",
   "execution_count": 10,
   "metadata": {},
   "outputs": [
    {
     "name": "stdout",
     "output_type": "stream",
     "text": [
      "Test Average Loss:0.0006, Accuracy:9897/10000(98.97%)\n"
     ]
    }
   ],
   "source": [
    "model.eval\n",
    "test_loss=0\n",
    "correct=0\n",
    "\n",
    "with torch.no_grad():\n",
    "  for data,target in test_loader:\n",
    "    data,target=data.to(DEVICE),target.to(DEVICE)\n",
    "    output=model(data)\n",
    "    test_loss+=criterison(output,target).item()\n",
    "    pred=output.argmax(dim=1,keepdim=True)\n",
    "    correct+=pred.eq(target.view_as(pred)).sum().item()\n",
    "    \n",
    "test_loss/=len(test_loader.dataset)\n",
    "accuracy=100.*correct/len(test_loader.dataset)\n",
    "\n",
    "print(f'Test Average Loss:{test_loss:.4f}, Accuracy:{correct}/{len(test_loader.dataset)}({accuracy:.2f}%)')"
   ]
  },
  {
   "cell_type": "code",
   "execution_count": 11,
   "metadata": {},
   "outputs": [],
   "source": [
    "dataiter = iter(test_loader)\n",
    "images,labels = next(dataiter)\n",
    "images,labels = images.to(DEVICE), labels.to(DEVICE)\n",
    "\n",
    "with torch.no_grad():\n",
    "  outputs = model(images)\n",
    "  preds = outputs.argmax(dim=1)"
   ]
  },
  {
   "cell_type": "code",
   "execution_count": null,
   "metadata": {},
   "outputs": [
    {
     "data": {
      "image/png": "[encoded data removed]",
      "text/plain": [
       "<Figure size 1000x100 with 10 Axes>"
      ]
     },
     "metadata": {},
     "output_type": "display_data"
    }
   ],
   "source": [
    "pltsize = 1\n",
    "plt.figure(figsize = (10*pltsize,pltsize))\n",
    "\n",
    "for i in range(10):\n",
    "  img = images[i].numpy().reshape(28,28)\n",
    "  pred = str(preds[i].item())\n",
    "  ans = str(labels[i].item())\n",
    "  plt.subplot(1,10,i+1)\n",
    "  plt.axis('off')\n",
    "  plt.imshow(img,cmap='gray_r')\n",
    "  plt.title(f'Pred: {pred}\\nAns: {ans}')\n",
    "\n",
    "plt.tight_layout()\n",
    "plt.show()"
   ]
  }
 ],
 "metadata": {
  "colab": {
   "provenance": []
  },
  "kernelspec": {
   "display_name": "Python 3",
   "language": "python",
   "name": "python3"
  },
  "language_info": {
   "codemirror_mode": {
    "name": "ipython",
    "version": 3
   },
   "file_extension": ".py",
   "mimetype": "text/x-python",
   "name": "python",
   "nbconvert_exporter": "python",
   "pygments_lexer": "ipython3",
   "version": "3.10.2"
  }
 },
 "nbformat": 4,
 "nbformat_minor": 0
}
